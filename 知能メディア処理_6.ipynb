{
  "nbformat": 4,
  "nbformat_minor": 0,
  "metadata": {
    "colab": {
      "name": "知能メディア処理_6.ipynb",
      "provenance": [],
      "collapsed_sections": [],
      "include_colab_link": true
    },
    "kernelspec": {
      "name": "python3",
      "display_name": "Python 3"
    },
    "language_info": {
      "name": "python"
    }
  },
  "cells": [
    {
      "cell_type": "markdown",
      "metadata": {
        "id": "view-in-github",
        "colab_type": "text"
      },
      "source": [
        "<a href=\"https://colab.research.google.com/github/Moe-water/AtCoder/blob/main/%E7%9F%A5%E8%83%BD%E3%83%A1%E3%83%87%E3%82%A3%E3%82%A2%E5%87%A6%E7%90%86_6.ipynb\" target=\"_parent\"><img src=\"https://colab.research.google.com/assets/colab-badge.svg\" alt=\"Open In Colab\"/></a>"
      ]
    },
    {
      "cell_type": "markdown",
      "metadata": {
        "id": "yw6HVO8qpfua"
      },
      "source": [
        "# 知能メディア処理　第6回：構文解析（2）"
      ]
    },
    {
      "cell_type": "markdown",
      "metadata": {
        "id": "8D17tCvR4ZdV"
      },
      "source": [
        "## 形態素解析器 MeCab & 辞書（IPAdic）のインストール\n",
        "\n",
        "- 辞書（JUMANdic） がデフォルトでインストール\n",
        "- 追加で辞書（IPAdic）をインストール\n",
        "- 基本的に毎回インストール処理が必要\n"
      ]
    },
    {
      "cell_type": "code",
      "metadata": {
        "id": "ZWSPmPR43-vD"
      },
      "source": [
        "%%bash\n",
        "# mecabとmecab-python3の依存関係をインストール\n",
        "apt-get install mecab swig libmecab-dev mecab-ipadic-utf8\n",
        "# mecab-pythonのインストール\n",
        "pip install mecab-python3\n",
        "# シンボリックリンクによるエラー回避\n",
        "ln -s /etc/mecabrc /usr/local/etc/mecabrc"
      ],
      "execution_count": null,
      "outputs": []
    },
    {
      "cell_type": "markdown",
      "metadata": {
        "id": "uaAT8pus2QKB"
      },
      "source": [
        "## 構文解析器 CaboCha のインストール\n",
        "\n",
        "### CRF++ のインストール"
      ]
    },
    {
      "cell_type": "code",
      "metadata": {
        "id": "NFZeEOxO2WuG"
      },
      "source": [
        "%%bash\n",
        "# crfppダウンロード(cabochaの依存関係)\n",
        "curl -sL -o CRF++-0.58.tar.gz \"https://drive.google.com/uc?export=download&id=0B4y35FiV1wh7QVR6VXJ5dWExSTQ\"\n",
        "tar -zxf CRF++-0.58.tar.gz\n",
        "# crfppインストール\n",
        "cd CRF++-0.58\n",
        "./configure && make && make install && ldconfig\n",
        "cd .."
      ],
      "execution_count": null,
      "outputs": []
    },
    {
      "cell_type": "markdown",
      "metadata": {
        "id": "W9jdxfwF2aqC"
      },
      "source": [
        "### CaboCha のインストール"
      ]
    },
    {
      "cell_type": "code",
      "metadata": {
        "id": "j0jAsqeN2f4o"
      },
      "source": [
        "%%bash\n",
        "# cabochaダウンロード\n",
        "url=\"https://drive.google.com/uc?export=download&id=0B4y35FiV1wh7SDd1Q1dUQkZQaUU\"\n",
        "curl -sc /tmp/cookie ${url} >/dev/null\n",
        "code=\"$(awk '/_warning_/ {print $NF}' /tmp/cookie)\"\n",
        "curl -sLb /tmp/cookie ${url}\"&confirm=${code}\" -o cabocha-0.69.tar.bz2\n",
        "tar -jxf cabocha-0.69.tar.bz2\n",
        "# cabochaインストール\n",
        "cd cabocha-0.69\n",
        "./configure -with-charset=utf-8 && make && make check && make install && ldconfig\n",
        "# cabocha-pythonのインストール\n",
        "pip install python/\n",
        "cd .."
      ],
      "execution_count": null,
      "outputs": []
    },
    {
      "cell_type": "markdown",
      "metadata": {
        "id": "Ls2mle2o31lz"
      },
      "source": [
        "## CaboCha で係り受け解析\n",
        "\n",
        "- 基本（MeCab と同じ感じ）"
      ]
    },
    {
      "cell_type": "code",
      "metadata": {
        "id": "5WGI7nH33Zrf"
      },
      "source": [
        "!echo 古びた京都の宿に彼だけが泊まったらしい | cabocha"
      ],
      "execution_count": null,
      "outputs": []
    },
    {
      "cell_type": "markdown",
      "metadata": {
        "id": "NTJMRynqssQf"
      },
      "source": [
        "- 出力形式指定（-f オプション）\n",
        "  - MeCab のような表示"
      ]
    },
    {
      "cell_type": "code",
      "metadata": {
        "id": "DBkq210r3oEk"
      },
      "source": [
        "!echo 古びた京都の宿に彼だけが泊まったらしい | cabocha -f1"
      ],
      "execution_count": null,
      "outputs": []
    },
    {
      "cell_type": "markdown",
      "metadata": {
        "id": "SbB0VeQvs27v"
      },
      "source": [
        "- 固有表現解析（-n オプション）"
      ]
    },
    {
      "cell_type": "code",
      "metadata": {
        "id": "4CYTMJgx3rXy"
      },
      "source": [
        "!echo 古びた京都の宿に彼だけが泊まったらしい | cabocha -f1 -n1"
      ],
      "execution_count": null,
      "outputs": []
    },
    {
      "cell_type": "markdown",
      "metadata": {
        "id": "QQAJ8KW0iauQ"
      },
      "source": [
        "- Python から使ってみる"
      ]
    },
    {
      "cell_type": "code",
      "metadata": {
        "id": "YBVFa5u-iej0"
      },
      "source": [
        ""
      ],
      "execution_count": null,
      "outputs": []
    }
  ]
}